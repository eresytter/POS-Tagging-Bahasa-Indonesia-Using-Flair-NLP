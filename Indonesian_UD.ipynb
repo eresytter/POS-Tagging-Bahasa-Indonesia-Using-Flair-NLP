{
  "nbformat": 4,
  "nbformat_minor": 0,
  "metadata": {
    "colab": {
      "name": "Indonesian_UD.ipynb",
      "provenance": [],
      "collapsed_sections": [],
      "authorship_tag": "ABX9TyPZDu/8AGp43M+PbnjxItg5",
      "include_colab_link": true
    },
    "kernelspec": {
      "name": "python3",
      "display_name": "Python 3"
    }
  },
  "cells": [
    {
      "cell_type": "markdown",
      "metadata": {
        "id": "view-in-github",
        "colab_type": "text"
      },
      "source": [
        "<a href=\"https://colab.research.google.com/github/eresytter/POS-Tagging-Bahasa-Indonesia-Using-Flair-NLP/blob/master/Indonesian_UD.ipynb\" target=\"_parent\"><img src=\"https://colab.research.google.com/assets/colab-badge.svg\" alt=\"Open In Colab\"/></a>"
      ]
    },
    {
      "cell_type": "code",
      "metadata": {
        "id": "3HZD2iwkQ2sG",
        "colab_type": "code",
        "colab": {
          "base_uri": "https://localhost:8080/",
          "height": 1000
        },
        "outputId": "6a57c82f-c614-443c-bee5-4ec8562d1ea2"
      },
      "source": [
        "\"\"\"Code forked from @puspitakaban https://github.com/eresytter/POS-Tagging-Bahasa-Indonesia-Using-Flair-NLP\"\"\"\n",
        "!pip install flair"
      ],
      "execution_count": 1,
      "outputs": [
        {
          "output_type": "stream",
          "text": [
            "Collecting flair\n",
            "\u001b[?25l  Downloading https://files.pythonhosted.org/packages/f1/0e/38d173e7a5b595e108c7d7a31f7b4d88fb93192f3b12a78998ff500c5203/flair-0.5-py3-none-any.whl (334kB)\n",
            "\r\u001b[K     |█                               | 10kB 19.5MB/s eta 0:00:01\r\u001b[K     |██                              | 20kB 1.7MB/s eta 0:00:01\r\u001b[K     |███                             | 30kB 2.3MB/s eta 0:00:01\r\u001b[K     |████                            | 40kB 2.5MB/s eta 0:00:01\r\u001b[K     |█████                           | 51kB 2.0MB/s eta 0:00:01\r\u001b[K     |█████▉                          | 61kB 2.2MB/s eta 0:00:01\r\u001b[K     |██████▉                         | 71kB 2.4MB/s eta 0:00:01\r\u001b[K     |███████▉                        | 81kB 2.7MB/s eta 0:00:01\r\u001b[K     |████████▉                       | 92kB 2.9MB/s eta 0:00:01\r\u001b[K     |█████████▉                      | 102kB 2.8MB/s eta 0:00:01\r\u001b[K     |██████████▊                     | 112kB 2.8MB/s eta 0:00:01\r\u001b[K     |███████████▊                    | 122kB 2.8MB/s eta 0:00:01\r\u001b[K     |████████████▊                   | 133kB 2.8MB/s eta 0:00:01\r\u001b[K     |█████████████▊                  | 143kB 2.8MB/s eta 0:00:01\r\u001b[K     |██████████████▊                 | 153kB 2.8MB/s eta 0:00:01\r\u001b[K     |███████████████▋                | 163kB 2.8MB/s eta 0:00:01\r\u001b[K     |████████████████▋               | 174kB 2.8MB/s eta 0:00:01\r\u001b[K     |█████████████████▋              | 184kB 2.8MB/s eta 0:00:01\r\u001b[K     |██████████████████▋             | 194kB 2.8MB/s eta 0:00:01\r\u001b[K     |███████████████████▋            | 204kB 2.8MB/s eta 0:00:01\r\u001b[K     |████████████████████▌           | 215kB 2.8MB/s eta 0:00:01\r\u001b[K     |█████████████████████▌          | 225kB 2.8MB/s eta 0:00:01\r\u001b[K     |██████████████████████▌         | 235kB 2.8MB/s eta 0:00:01\r\u001b[K     |███████████████████████▌        | 245kB 2.8MB/s eta 0:00:01\r\u001b[K     |████████████████████████▌       | 256kB 2.8MB/s eta 0:00:01\r\u001b[K     |█████████████████████████▍      | 266kB 2.8MB/s eta 0:00:01\r\u001b[K     |██████████████████████████▍     | 276kB 2.8MB/s eta 0:00:01\r\u001b[K     |███████████████████████████▍    | 286kB 2.8MB/s eta 0:00:01\r\u001b[K     |████████████████████████████▍   | 296kB 2.8MB/s eta 0:00:01\r\u001b[K     |█████████████████████████████▍  | 307kB 2.8MB/s eta 0:00:01\r\u001b[K     |██████████████████████████████▎ | 317kB 2.8MB/s eta 0:00:01\r\u001b[K     |███████████████████████████████▎| 327kB 2.8MB/s eta 0:00:01\r\u001b[K     |████████████████████████████████| 337kB 2.8MB/s \n",
            "\u001b[?25hRequirement already satisfied: python-dateutil>=2.6.1 in /usr/local/lib/python3.6/dist-packages (from flair) (2.8.1)\n",
            "Collecting transformers>=2.10.0\n",
            "\u001b[?25l  Downloading https://files.pythonhosted.org/packages/48/35/ad2c5b1b8f99feaaf9d7cdadaeef261f098c6e1a6a2935d4d07662a6b780/transformers-2.11.0-py3-none-any.whl (674kB)\n",
            "\u001b[K     |████████████████████████████████| 675kB 8.8MB/s \n",
            "\u001b[?25hRequirement already satisfied: matplotlib>=2.2.3 in /usr/local/lib/python3.6/dist-packages (from flair) (3.2.2)\n",
            "Collecting mpld3==0.3\n",
            "\u001b[?25l  Downloading https://files.pythonhosted.org/packages/91/95/a52d3a83d0a29ba0d6898f6727e9858fe7a43f6c2ce81a5fe7e05f0f4912/mpld3-0.3.tar.gz (788kB)\n",
            "\u001b[K     |████████████████████████████████| 798kB 9.9MB/s \n",
            "\u001b[?25hCollecting langdetect\n",
            "\u001b[?25l  Downloading https://files.pythonhosted.org/packages/56/a3/8407c1e62d5980188b4acc45ef3d94b933d14a2ebc9ef3505f22cf772570/langdetect-1.0.8.tar.gz (981kB)\n",
            "\u001b[K     |████████████████████████████████| 983kB 17.3MB/s \n",
            "\u001b[?25hRequirement already satisfied: torch>=1.1.0 in /usr/local/lib/python3.6/dist-packages (from flair) (1.5.1+cu101)\n",
            "Requirement already satisfied: tqdm>=4.26.0 in /usr/local/lib/python3.6/dist-packages (from flair) (4.41.1)\n",
            "Collecting pytest>=5.3.2\n",
            "\u001b[?25l  Downloading https://files.pythonhosted.org/packages/9f/f3/0a83558da436a081344aa6c8b85ea5b5f05071214106036ce341b7769b0b/pytest-5.4.3-py3-none-any.whl (248kB)\n",
            "\u001b[K     |████████████████████████████████| 256kB 25.5MB/s \n",
            "\u001b[?25hRequirement already satisfied: gensim>=3.4.0 in /usr/local/lib/python3.6/dist-packages (from flair) (3.6.0)\n",
            "Collecting segtok>=1.5.7\n",
            "  Downloading https://files.pythonhosted.org/packages/41/08/582dab5f4b1d5ca23bc6927b4bb977c8ff7f3a87a3b98844ef833e2f5623/segtok-1.5.10.tar.gz\n",
            "Collecting bpemb>=0.2.9\n",
            "  Downloading https://files.pythonhosted.org/packages/bc/70/468a9652095b370f797ed37ff77e742b11565c6fd79eaeca5f2e50b164a7/bpemb-0.3.0-py3-none-any.whl\n",
            "Requirement already satisfied: tabulate in /usr/local/lib/python3.6/dist-packages (from flair) (0.8.7)\n",
            "Collecting deprecated>=1.2.4\n",
            "  Downloading https://files.pythonhosted.org/packages/76/a1/05d7f62f956d77b23a640efc650f80ce24483aa2f85a09c03fb64f49e879/Deprecated-1.2.10-py2.py3-none-any.whl\n",
            "Requirement already satisfied: regex in /usr/local/lib/python3.6/dist-packages (from flair) (2019.12.20)\n",
            "Requirement already satisfied: hyperopt>=0.1.1 in /usr/local/lib/python3.6/dist-packages (from flair) (0.1.2)\n",
            "Collecting sqlitedict>=1.6.0\n",
            "  Downloading https://files.pythonhosted.org/packages/0f/1c/c757b93147a219cf1e25cef7e1ad9b595b7f802159493c45ce116521caff/sqlitedict-1.6.0.tar.gz\n",
            "Requirement already satisfied: scikit-learn>=0.21.3 in /usr/local/lib/python3.6/dist-packages (from flair) (0.22.2.post1)\n",
            "Requirement already satisfied: six>=1.5 in /usr/local/lib/python3.6/dist-packages (from python-dateutil>=2.6.1->flair) (1.12.0)\n",
            "Requirement already satisfied: requests in /usr/local/lib/python3.6/dist-packages (from transformers>=2.10.0->flair) (2.23.0)\n",
            "Requirement already satisfied: packaging in /usr/local/lib/python3.6/dist-packages (from transformers>=2.10.0->flair) (20.4)\n",
            "Collecting tokenizers==0.7.0\n",
            "\u001b[?25l  Downloading https://files.pythonhosted.org/packages/14/e5/a26eb4716523808bb0a799fcfdceb6ebf77a18169d9591b2f46a9adb87d9/tokenizers-0.7.0-cp36-cp36m-manylinux1_x86_64.whl (3.8MB)\n",
            "\u001b[K     |████████████████████████████████| 3.8MB 32.3MB/s \n",
            "\u001b[?25hRequirement already satisfied: filelock in /usr/local/lib/python3.6/dist-packages (from transformers>=2.10.0->flair) (3.0.12)\n",
            "Requirement already satisfied: numpy in /usr/local/lib/python3.6/dist-packages (from transformers>=2.10.0->flair) (1.18.5)\n",
            "Collecting sentencepiece\n",
            "\u001b[?25l  Downloading https://files.pythonhosted.org/packages/d4/a4/d0a884c4300004a78cca907a6ff9a5e9fe4f090f5d95ab341c53d28cbc58/sentencepiece-0.1.91-cp36-cp36m-manylinux1_x86_64.whl (1.1MB)\n",
            "\u001b[K     |████████████████████████████████| 1.1MB 44.3MB/s \n",
            "\u001b[?25hRequirement already satisfied: dataclasses; python_version < \"3.7\" in /usr/local/lib/python3.6/dist-packages (from transformers>=2.10.0->flair) (0.7)\n",
            "Collecting sacremoses\n",
            "\u001b[?25l  Downloading https://files.pythonhosted.org/packages/7d/34/09d19aff26edcc8eb2a01bed8e98f13a1537005d31e95233fd48216eed10/sacremoses-0.0.43.tar.gz (883kB)\n",
            "\u001b[K     |████████████████████████████████| 890kB 38.1MB/s \n",
            "\u001b[?25hRequirement already satisfied: pyparsing!=2.0.4,!=2.1.2,!=2.1.6,>=2.0.1 in /usr/local/lib/python3.6/dist-packages (from matplotlib>=2.2.3->flair) (2.4.7)\n",
            "Requirement already satisfied: kiwisolver>=1.0.1 in /usr/local/lib/python3.6/dist-packages (from matplotlib>=2.2.3->flair) (1.2.0)\n",
            "Requirement already satisfied: cycler>=0.10 in /usr/local/lib/python3.6/dist-packages (from matplotlib>=2.2.3->flair) (0.10.0)\n",
            "Requirement already satisfied: future in /usr/local/lib/python3.6/dist-packages (from torch>=1.1.0->flair) (0.16.0)\n",
            "Requirement already satisfied: attrs>=17.4.0 in /usr/local/lib/python3.6/dist-packages (from pytest>=5.3.2->flair) (19.3.0)\n",
            "Requirement already satisfied: importlib-metadata>=0.12; python_version < \"3.8\" in /usr/local/lib/python3.6/dist-packages (from pytest>=5.3.2->flair) (1.6.1)\n",
            "Requirement already satisfied: wcwidth in /usr/local/lib/python3.6/dist-packages (from pytest>=5.3.2->flair) (0.2.4)\n",
            "Requirement already satisfied: more-itertools>=4.0.0 in /usr/local/lib/python3.6/dist-packages (from pytest>=5.3.2->flair) (8.4.0)\n",
            "Collecting pluggy<1.0,>=0.12\n",
            "  Downloading https://files.pythonhosted.org/packages/a0/28/85c7aa31b80d150b772fbe4a229487bc6644da9ccb7e427dd8cc60cb8a62/pluggy-0.13.1-py2.py3-none-any.whl\n",
            "Requirement already satisfied: py>=1.5.0 in /usr/local/lib/python3.6/dist-packages (from pytest>=5.3.2->flair) (1.8.2)\n",
            "Requirement already satisfied: scipy>=0.18.1 in /usr/local/lib/python3.6/dist-packages (from gensim>=3.4.0->flair) (1.4.1)\n",
            "Requirement already satisfied: smart-open>=1.2.1 in /usr/local/lib/python3.6/dist-packages (from gensim>=3.4.0->flair) (2.0.0)\n",
            "Requirement already satisfied: wrapt<2,>=1.10 in /usr/local/lib/python3.6/dist-packages (from deprecated>=1.2.4->flair) (1.12.1)\n",
            "Requirement already satisfied: networkx in /usr/local/lib/python3.6/dist-packages (from hyperopt>=0.1.1->flair) (2.4)\n",
            "Requirement already satisfied: pymongo in /usr/local/lib/python3.6/dist-packages (from hyperopt>=0.1.1->flair) (3.10.1)\n",
            "Requirement already satisfied: joblib>=0.11 in /usr/local/lib/python3.6/dist-packages (from scikit-learn>=0.21.3->flair) (0.15.1)\n",
            "Requirement already satisfied: certifi>=2017.4.17 in /usr/local/lib/python3.6/dist-packages (from requests->transformers>=2.10.0->flair) (2020.4.5.2)\n",
            "Requirement already satisfied: urllib3!=1.25.0,!=1.25.1,<1.26,>=1.21.1 in /usr/local/lib/python3.6/dist-packages (from requests->transformers>=2.10.0->flair) (1.24.3)\n",
            "Requirement already satisfied: idna<3,>=2.5 in /usr/local/lib/python3.6/dist-packages (from requests->transformers>=2.10.0->flair) (2.9)\n",
            "Requirement already satisfied: chardet<4,>=3.0.2 in /usr/local/lib/python3.6/dist-packages (from requests->transformers>=2.10.0->flair) (3.0.4)\n",
            "Requirement already satisfied: click in /usr/local/lib/python3.6/dist-packages (from sacremoses->transformers>=2.10.0->flair) (7.1.2)\n",
            "Requirement already satisfied: zipp>=0.5 in /usr/local/lib/python3.6/dist-packages (from importlib-metadata>=0.12; python_version < \"3.8\"->pytest>=5.3.2->flair) (3.1.0)\n",
            "Requirement already satisfied: boto in /usr/local/lib/python3.6/dist-packages (from smart-open>=1.2.1->gensim>=3.4.0->flair) (2.49.0)\n",
            "Requirement already satisfied: boto3 in /usr/local/lib/python3.6/dist-packages (from smart-open>=1.2.1->gensim>=3.4.0->flair) (1.14.5)\n",
            "Requirement already satisfied: decorator>=4.3.0 in /usr/local/lib/python3.6/dist-packages (from networkx->hyperopt>=0.1.1->flair) (4.4.2)\n",
            "Requirement already satisfied: jmespath<1.0.0,>=0.7.1 in /usr/local/lib/python3.6/dist-packages (from boto3->smart-open>=1.2.1->gensim>=3.4.0->flair) (0.10.0)\n",
            "Requirement already satisfied: s3transfer<0.4.0,>=0.3.0 in /usr/local/lib/python3.6/dist-packages (from boto3->smart-open>=1.2.1->gensim>=3.4.0->flair) (0.3.3)\n",
            "Requirement already satisfied: botocore<1.18.0,>=1.17.5 in /usr/local/lib/python3.6/dist-packages (from boto3->smart-open>=1.2.1->gensim>=3.4.0->flair) (1.17.5)\n",
            "Requirement already satisfied: docutils<0.16,>=0.10 in /usr/local/lib/python3.6/dist-packages (from botocore<1.18.0,>=1.17.5->boto3->smart-open>=1.2.1->gensim>=3.4.0->flair) (0.15.2)\n",
            "Building wheels for collected packages: mpld3, langdetect, segtok, sqlitedict, sacremoses\n",
            "  Building wheel for mpld3 (setup.py) ... \u001b[?25l\u001b[?25hdone\n",
            "  Created wheel for mpld3: filename=mpld3-0.3-cp36-none-any.whl size=116679 sha256=fe1fab4723e9f69fc08519afbfb3c1108d665df18082ea1b2807ef84e46de101\n",
            "  Stored in directory: /root/.cache/pip/wheels/c0/47/fb/8a64f89aecfe0059830479308ad42d62e898a3e3cefdf6ba28\n",
            "  Building wheel for langdetect (setup.py) ... \u001b[?25l\u001b[?25hdone\n",
            "  Created wheel for langdetect: filename=langdetect-1.0.8-cp36-none-any.whl size=993193 sha256=2113bbc58c4bad4aaa68aedf8806d4ab10f5363467065ebff3c8f07ad02a00cd\n",
            "  Stored in directory: /root/.cache/pip/wheels/8d/b3/aa/6d99de9f3841d7d3d40a60ea06e6d669e8e5012e6c8b947a57\n",
            "  Building wheel for segtok (setup.py) ... \u001b[?25l\u001b[?25hdone\n",
            "  Created wheel for segtok: filename=segtok-1.5.10-cp36-none-any.whl size=25020 sha256=587a09f15480996fd538479a806fa26f65e5f886fe53c3988bd063bb9ff7ca8d\n",
            "  Stored in directory: /root/.cache/pip/wheels/b4/39/f6/9ca1c5cabde964d728023b5751c3a206a5c8cc40252321fb6b\n",
            "  Building wheel for sqlitedict (setup.py) ... \u001b[?25l\u001b[?25hdone\n",
            "  Created wheel for sqlitedict: filename=sqlitedict-1.6.0-cp36-none-any.whl size=14689 sha256=27ee053e85735600650744ea073e94c66a78bfd9cddee72ef2667b620e873ee5\n",
            "  Stored in directory: /root/.cache/pip/wheels/bd/57/d3/907c3ee02d35e66f674ad0106e61f06eeeb98f6ee66a6cc3fe\n",
            "  Building wheel for sacremoses (setup.py) ... \u001b[?25l\u001b[?25hdone\n",
            "  Created wheel for sacremoses: filename=sacremoses-0.0.43-cp36-none-any.whl size=893260 sha256=e80cc22b82306c27b16863473aa679637dc776c301cf4a897ff124184320f160\n",
            "  Stored in directory: /root/.cache/pip/wheels/29/3c/fd/7ce5c3f0666dab31a50123635e6fb5e19ceb42ce38d4e58f45\n",
            "Successfully built mpld3 langdetect segtok sqlitedict sacremoses\n",
            "\u001b[31mERROR: datascience 0.10.6 has requirement folium==0.2.1, but you'll have folium 0.8.3 which is incompatible.\u001b[0m\n",
            "Installing collected packages: tokenizers, sentencepiece, sacremoses, transformers, mpld3, langdetect, pluggy, pytest, segtok, bpemb, deprecated, sqlitedict, flair\n",
            "  Found existing installation: pluggy 0.7.1\n",
            "    Uninstalling pluggy-0.7.1:\n",
            "      Successfully uninstalled pluggy-0.7.1\n",
            "  Found existing installation: pytest 3.6.4\n",
            "    Uninstalling pytest-3.6.4:\n",
            "      Successfully uninstalled pytest-3.6.4\n",
            "Successfully installed bpemb-0.3.0 deprecated-1.2.10 flair-0.5 langdetect-1.0.8 mpld3-0.3 pluggy-0.13.1 pytest-5.4.3 sacremoses-0.0.43 segtok-1.5.10 sentencepiece-0.1.91 sqlitedict-1.6.0 tokenizers-0.7.0 transformers-2.11.0\n"
          ],
          "name": "stdout"
        }
      ]
    },
    {
      "cell_type": "code",
      "metadata": {
        "id": "A49a5KzZQ5LW",
        "colab_type": "code",
        "colab": {}
      },
      "source": [
        "from flair.data_fetcher import NLPTaskDataFetcher, NLPTask\n",
        "from flair.embeddings import TokenEmbeddings, WordEmbeddings, StackedEmbeddings, BertEmbeddings\n",
        "\n",
        "from typing import List"
      ],
      "execution_count": 2,
      "outputs": []
    },
    {
      "cell_type": "code",
      "metadata": {
        "id": "LiPLHhNZRHCv",
        "colab_type": "code",
        "colab": {
          "base_uri": "https://localhost:8080/",
          "height": 348
        },
        "outputId": "0b46fae8-4f16-43a9-ee08-5326faecfecd"
      },
      "source": [
        "corpus = NLPTaskDataFetcher.load_corpus(NLPTask.UD_INDONESIAN)"
      ],
      "execution_count": 3,
      "outputs": [
        {
          "output_type": "stream",
          "text": [
            "/usr/local/lib/python3.6/dist-packages/ipykernel_launcher.py:1: DeprecationWarning: Call to deprecated function (or staticmethod) load_corpus. (Use 'flair.datasets' instead.) -- Deprecated since version 0.4.1.\n",
            "  \"\"\"Entry point for launching an IPython kernel.\n"
          ],
          "name": "stderr"
        },
        {
          "output_type": "stream",
          "text": [
            "2020-06-24 00:28:21,389 https://raw.githubusercontent.com/UniversalDependencies/UD_Indonesian-GSD/master/id_gsd-ud-dev.conllu not found in cache, downloading to /tmp/tmpqm2at4f7\n"
          ],
          "name": "stdout"
        },
        {
          "output_type": "stream",
          "text": [
            "979367B [00:00, 19348586.34B/s]          "
          ],
          "name": "stderr"
        },
        {
          "output_type": "stream",
          "text": [
            "2020-06-24 00:28:21,509 copying /tmp/tmpqm2at4f7 to cache at /root/.flair/datasets/ud_indonesian/id_gsd-ud-dev.conllu\n",
            "2020-06-24 00:28:21,516 removing temp file /tmp/tmpqm2at4f7\n"
          ],
          "name": "stdout"
        },
        {
          "output_type": "stream",
          "text": [
            "\n"
          ],
          "name": "stderr"
        },
        {
          "output_type": "stream",
          "text": [
            "2020-06-24 00:28:21,771 https://raw.githubusercontent.com/UniversalDependencies/UD_Indonesian-GSD/master/id_gsd-ud-test.conllu not found in cache, downloading to /tmp/tmp9ymqze5c\n"
          ],
          "name": "stdout"
        },
        {
          "output_type": "stream",
          "text": [
            "916721B [00:00, 16006254.95B/s]          "
          ],
          "name": "stderr"
        },
        {
          "output_type": "stream",
          "text": [
            "2020-06-24 00:28:21,898 copying /tmp/tmp9ymqze5c to cache at /root/.flair/datasets/ud_indonesian/id_gsd-ud-test.conllu\n",
            "2020-06-24 00:28:21,900 removing temp file /tmp/tmp9ymqze5c\n"
          ],
          "name": "stdout"
        },
        {
          "output_type": "stream",
          "text": [
            "\n"
          ],
          "name": "stderr"
        },
        {
          "output_type": "stream",
          "text": [
            "2020-06-24 00:28:22,458 https://raw.githubusercontent.com/UniversalDependencies/UD_Indonesian-GSD/master/id_gsd-ud-train.conllu not found in cache, downloading to /tmp/tmphqnayb4c\n"
          ],
          "name": "stdout"
        },
        {
          "output_type": "stream",
          "text": [
            "7591261B [00:00, 39464278.79B/s]"
          ],
          "name": "stderr"
        },
        {
          "output_type": "stream",
          "text": [
            "2020-06-24 00:28:22,740 copying /tmp/tmphqnayb4c to cache at /root/.flair/datasets/ud_indonesian/id_gsd-ud-train.conllu\n"
          ],
          "name": "stdout"
        },
        {
          "output_type": "stream",
          "text": [
            "\n"
          ],
          "name": "stderr"
        },
        {
          "output_type": "stream",
          "text": [
            "2020-06-24 00:28:22,755 removing temp file /tmp/tmphqnayb4c\n",
            "2020-06-24 00:28:22,852 Reading data from /root/.flair/datasets/ud_indonesian\n",
            "2020-06-24 00:28:22,853 Train: /root/.flair/datasets/ud_indonesian/id_gsd-ud-train.conllu\n",
            "2020-06-24 00:28:22,854 Dev: /root/.flair/datasets/ud_indonesian/id_gsd-ud-dev.conllu\n",
            "2020-06-24 00:28:22,854 Test: /root/.flair/datasets/ud_indonesian/id_gsd-ud-test.conllu\n"
          ],
          "name": "stdout"
        }
      ]
    },
    {
      "cell_type": "code",
      "metadata": {
        "id": "oizIwnBkRN0P",
        "colab_type": "code",
        "colab": {
          "base_uri": "https://localhost:8080/",
          "height": 1000
        },
        "outputId": "3a7cdccc-6244-46cd-f82d-272b6f276b04"
      },
      "source": [
        "tag_type = 'upos'\n",
        "\n",
        "tag_dictionary = corpus.make_tag_dictionary(tag_type=tag_type)\n",
        "print(tag_dictionary.idx2item)\n",
        "\n",
        "embedding_types: List[TokenEmbeddings] = [\n",
        "    WordEmbeddings('id-crawl'),\n",
        "    WordEmbeddings('id'),                                      \n",
        "]\n",
        "\n",
        "embeddings: StackedEmbeddings = StackedEmbeddings(embeddings=embedding_types)\n",
        "from flair.models import SequenceTagger\n",
        "tagger: SequenceTagger = SequenceTagger(hidden_size=256,\n",
        "                                        embeddings=embeddings,\n",
        "                                        tag_dictionary=tag_dictionary,\n",
        "                                        tag_type=tag_type,\n",
        "                                        use_crf=True)\n",
        "from flair.trainers import ModelTrainer\n",
        "\n",
        "trainer: ModelTrainer = ModelTrainer(tagger, corpus)\n",
        "\n",
        "trainer.train('resources/taggers/example-universal-pos',\n",
        "              learning_rate=0.1,\n",
        "              mini_batch_size=32,\n",
        "              max_epochs=10)"
      ],
      "execution_count": 4,
      "outputs": [
        {
          "output_type": "stream",
          "text": [
            "[b'<unk>', b'O', b'PROPN', b'AUX', b'DET', b'NOUN', b'PRON', b'VERB', b'ADP', b'PUNCT', b'ADV', b'CCONJ', b'SCONJ', b'NUM', b'ADJ', b'PART', b'SYM', b'X', b'<START>', b'<STOP>']\n",
            "2020-06-24 00:28:27,313 https://s3.eu-central-1.amazonaws.com/alan-nlp/resources/embeddings-v0.4/id-crawl-fasttext-300d-1M.vectors.npy not found in cache, downloading to /tmp/tmpa6wuduiz\n"
          ],
          "name": "stdout"
        },
        {
          "output_type": "stream",
          "text": [
            "100%|██████████| 1199998928/1199998928 [00:47<00:00, 25345915.04B/s]"
          ],
          "name": "stderr"
        },
        {
          "output_type": "stream",
          "text": [
            "2020-06-24 00:29:15,291 copying /tmp/tmpa6wuduiz to cache at /root/.flair/embeddings/id-crawl-fasttext-300d-1M.vectors.npy\n"
          ],
          "name": "stdout"
        },
        {
          "output_type": "stream",
          "text": [
            "\n"
          ],
          "name": "stderr"
        },
        {
          "output_type": "stream",
          "text": [
            "2020-06-24 00:29:19,957 removing temp file /tmp/tmpa6wuduiz\n",
            "2020-06-24 00:29:20,574 https://s3.eu-central-1.amazonaws.com/alan-nlp/resources/embeddings-v0.4/id-crawl-fasttext-300d-1M not found in cache, downloading to /tmp/tmp2ipih0_3\n"
          ],
          "name": "stdout"
        },
        {
          "output_type": "stream",
          "text": [
            "100%|██████████| 39636845/39636845 [00:02<00:00, 16514498.33B/s]"
          ],
          "name": "stderr"
        },
        {
          "output_type": "stream",
          "text": [
            "2020-06-24 00:29:23,524 copying /tmp/tmp2ipih0_3 to cache at /root/.flair/embeddings/id-crawl-fasttext-300d-1M\n"
          ],
          "name": "stdout"
        },
        {
          "output_type": "stream",
          "text": [
            "\n"
          ],
          "name": "stderr"
        },
        {
          "output_type": "stream",
          "text": [
            "2020-06-24 00:29:23,565 removing temp file /tmp/tmp2ipih0_3\n"
          ],
          "name": "stdout"
        },
        {
          "output_type": "stream",
          "text": [
            "/usr/local/lib/python3.6/dist-packages/smart_open/smart_open_lib.py:253: UserWarning: This function is deprecated, use smart_open.open instead. See the migration notes for details: https://github.com/RaRe-Technologies/smart_open/blob/master/README.rst#migrating-to-the-new-open-function\n",
            "  'See the migration notes for details: %s' % _MIGRATION_NOTES_URL\n"
          ],
          "name": "stderr"
        },
        {
          "output_type": "stream",
          "text": [
            "2020-06-24 00:29:28,045 https://s3.eu-central-1.amazonaws.com/alan-nlp/resources/embeddings-v0.4/id-wiki-fasttext-300d-1M.vectors.npy not found in cache, downloading to /tmp/tmpfsby0s6_\n"
          ],
          "name": "stdout"
        },
        {
          "output_type": "stream",
          "text": [
            "100%|██████████| 360822128/360822128 [00:14<00:00, 25571277.81B/s]"
          ],
          "name": "stderr"
        },
        {
          "output_type": "stream",
          "text": [
            "2020-06-24 00:29:42,746 copying /tmp/tmpfsby0s6_ to cache at /root/.flair/embeddings/id-wiki-fasttext-300d-1M.vectors.npy\n"
          ],
          "name": "stdout"
        },
        {
          "output_type": "stream",
          "text": [
            "\n"
          ],
          "name": "stderr"
        },
        {
          "output_type": "stream",
          "text": [
            "2020-06-24 00:29:43,742 removing temp file /tmp/tmpfsby0s6_\n",
            "2020-06-24 00:29:44,254 https://s3.eu-central-1.amazonaws.com/alan-nlp/resources/embeddings-v0.4/id-wiki-fasttext-300d-1M not found in cache, downloading to /tmp/tmpj28kk2yp\n"
          ],
          "name": "stdout"
        },
        {
          "output_type": "stream",
          "text": [
            "100%|██████████| 11638719/11638719 [00:01<00:00, 10375147.77B/s]"
          ],
          "name": "stderr"
        },
        {
          "output_type": "stream",
          "text": [
            "2020-06-24 00:29:45,933 copying /tmp/tmpj28kk2yp to cache at /root/.flair/embeddings/id-wiki-fasttext-300d-1M\n",
            "2020-06-24 00:29:45,947 removing temp file /tmp/tmpj28kk2yp\n"
          ],
          "name": "stdout"
        },
        {
          "output_type": "stream",
          "text": [
            "\n"
          ],
          "name": "stderr"
        },
        {
          "output_type": "stream",
          "text": [
            "2020-06-24 00:29:47,506 ----------------------------------------------------------------------------------------------------\n",
            "2020-06-24 00:29:47,507 Model: \"SequenceTagger(\n",
            "  (embeddings): StackedEmbeddings(\n",
            "    (list_embedding_0): WordEmbeddings('id-crawl')\n",
            "    (list_embedding_1): WordEmbeddings('id')\n",
            "  )\n",
            "  (word_dropout): WordDropout(p=0.05)\n",
            "  (locked_dropout): LockedDropout(p=0.5)\n",
            "  (embedding2nn): Linear(in_features=600, out_features=600, bias=True)\n",
            "  (rnn): LSTM(600, 256, batch_first=True, bidirectional=True)\n",
            "  (linear): Linear(in_features=512, out_features=20, bias=True)\n",
            "  (beta): 1.0\n",
            "  (weights): None\n",
            "  (weight_tensor) None\n",
            ")\"\n",
            "2020-06-24 00:29:47,508 ----------------------------------------------------------------------------------------------------\n",
            "2020-06-24 00:29:47,510 Corpus: \"Corpus: 4477 train + 559 dev + 557 test sentences\"\n",
            "2020-06-24 00:29:47,511 ----------------------------------------------------------------------------------------------------\n",
            "2020-06-24 00:29:47,513 Parameters:\n",
            "2020-06-24 00:29:47,516  - learning_rate: \"0.1\"\n",
            "2020-06-24 00:29:47,517  - mini_batch_size: \"32\"\n",
            "2020-06-24 00:29:47,519  - patience: \"3\"\n",
            "2020-06-24 00:29:47,521  - anneal_factor: \"0.5\"\n",
            "2020-06-24 00:29:47,523  - max_epochs: \"10\"\n",
            "2020-06-24 00:29:47,523  - shuffle: \"True\"\n",
            "2020-06-24 00:29:47,525  - train_with_dev: \"False\"\n",
            "2020-06-24 00:29:47,526  - batch_growth_annealing: \"False\"\n",
            "2020-06-24 00:29:47,526 ----------------------------------------------------------------------------------------------------\n",
            "2020-06-24 00:29:47,527 Model training base path: \"resources/taggers/example-universal-pos\"\n",
            "2020-06-24 00:29:47,529 ----------------------------------------------------------------------------------------------------\n",
            "2020-06-24 00:29:47,530 Device: cpu\n",
            "2020-06-24 00:29:47,532 ----------------------------------------------------------------------------------------------------\n",
            "2020-06-24 00:29:47,534 Embeddings storage mode: cpu\n",
            "2020-06-24 00:29:47,536 ----------------------------------------------------------------------------------------------------\n",
            "2020-06-24 00:29:55,024 epoch 1 - iter 14/140 - loss 51.16912842 - samples/sec: 59.90\n",
            "2020-06-24 00:30:02,437 epoch 1 - iter 28/140 - loss 45.44356469 - samples/sec: 60.53\n",
            "2020-06-24 00:30:12,218 epoch 1 - iter 42/140 - loss 42.81917985 - samples/sec: 45.85\n",
            "2020-06-24 00:30:19,659 epoch 1 - iter 56/140 - loss 39.36242553 - samples/sec: 60.29\n",
            "2020-06-24 00:30:28,710 epoch 1 - iter 70/140 - loss 36.81452735 - samples/sec: 49.55\n",
            "2020-06-24 00:30:37,603 epoch 1 - iter 84/140 - loss 34.61610581 - samples/sec: 50.44\n",
            "2020-06-24 00:30:46,722 epoch 1 - iter 98/140 - loss 32.71612708 - samples/sec: 49.20\n",
            "2020-06-24 00:30:55,275 epoch 1 - iter 112/140 - loss 31.09336076 - samples/sec: 52.44\n",
            "2020-06-24 00:31:03,395 epoch 1 - iter 126/140 - loss 29.61200629 - samples/sec: 55.24\n",
            "2020-06-24 00:31:11,963 epoch 1 - iter 140/140 - loss 28.43123122 - samples/sec: 52.34\n",
            "2020-06-24 00:31:11,973 ----------------------------------------------------------------------------------------------------\n",
            "2020-06-24 00:31:11,975 EPOCH 1 done: loss 28.4312 - lr 0.1000000\n",
            "2020-06-24 00:31:15,121 DEV : loss 13.226998329162598 - score 0.8094\n",
            "2020-06-24 00:31:15,176 BAD EPOCHS (no improvement): 0\n",
            "saving best model\n",
            "2020-06-24 00:31:32,888 ----------------------------------------------------------------------------------------------------\n",
            "2020-06-24 00:31:40,558 epoch 2 - iter 14/140 - loss 15.67416988 - samples/sec: 58.44\n",
            "2020-06-24 00:31:48,612 epoch 2 - iter 28/140 - loss 15.60389679 - samples/sec: 55.70\n",
            "2020-06-24 00:31:59,488 epoch 2 - iter 42/140 - loss 15.56773122 - samples/sec: 41.24\n",
            "2020-06-24 00:32:11,989 epoch 2 - iter 56/140 - loss 15.27782294 - samples/sec: 35.87\n",
            "2020-06-24 00:32:24,094 epoch 2 - iter 70/140 - loss 15.02390506 - samples/sec: 37.04\n",
            "2020-06-24 00:32:33,318 epoch 2 - iter 84/140 - loss 14.70277262 - samples/sec: 48.63\n",
            "2020-06-24 00:32:43,760 epoch 2 - iter 98/140 - loss 14.40701379 - samples/sec: 42.95\n",
            "2020-06-24 00:32:51,826 epoch 2 - iter 112/140 - loss 14.13931163 - samples/sec: 55.61\n",
            "2020-06-24 00:33:03,432 epoch 2 - iter 126/140 - loss 14.05115472 - samples/sec: 38.64\n",
            "2020-06-24 00:33:14,059 epoch 2 - iter 140/140 - loss 13.91460870 - samples/sec: 42.20\n",
            "2020-06-24 00:33:14,069 ----------------------------------------------------------------------------------------------------\n",
            "2020-06-24 00:33:14,073 EPOCH 2 done: loss 13.9146 - lr 0.1000000\n",
            "2020-06-24 00:33:17,044 DEV : loss 8.147075653076172 - score 0.8875\n",
            "2020-06-24 00:33:17,093 BAD EPOCHS (no improvement): 0\n",
            "saving best model\n",
            "2020-06-24 00:33:32,955 ----------------------------------------------------------------------------------------------------\n",
            "2020-06-24 00:33:41,065 epoch 3 - iter 14/140 - loss 12.01854229 - samples/sec: 55.27\n",
            "2020-06-24 00:33:50,368 epoch 3 - iter 28/140 - loss 11.69497556 - samples/sec: 48.20\n",
            "2020-06-24 00:34:05,675 epoch 3 - iter 42/140 - loss 11.75496534 - samples/sec: 29.29\n",
            "2020-06-24 00:34:13,198 epoch 3 - iter 56/140 - loss 11.68719656 - samples/sec: 59.63\n",
            "2020-06-24 00:34:22,098 epoch 3 - iter 70/140 - loss 11.69098869 - samples/sec: 50.41\n",
            "2020-06-24 00:34:30,354 epoch 3 - iter 84/140 - loss 11.64066777 - samples/sec: 54.33\n",
            "2020-06-24 00:34:40,300 epoch 3 - iter 98/140 - loss 11.55770808 - samples/sec: 45.09\n",
            "2020-06-24 00:34:50,519 epoch 3 - iter 112/140 - loss 11.42276749 - samples/sec: 43.89\n",
            "2020-06-24 00:35:09,065 epoch 3 - iter 126/140 - loss 11.43498020 - samples/sec: 24.17\n",
            "2020-06-24 00:35:17,665 epoch 3 - iter 140/140 - loss 11.29581782 - samples/sec: 52.16\n",
            "2020-06-24 00:35:17,676 ----------------------------------------------------------------------------------------------------\n",
            "2020-06-24 00:35:17,677 EPOCH 3 done: loss 11.2958 - lr 0.1000000\n",
            "2020-06-24 00:35:20,719 DEV : loss 7.002388954162598 - score 0.902\n",
            "2020-06-24 00:35:20,768 BAD EPOCHS (no improvement): 0\n",
            "saving best model\n",
            "2020-06-24 00:35:36,807 ----------------------------------------------------------------------------------------------------\n",
            "2020-06-24 00:35:46,238 epoch 4 - iter 14/140 - loss 10.16127120 - samples/sec: 47.52\n",
            "2020-06-24 00:35:55,897 epoch 4 - iter 28/140 - loss 10.44669827 - samples/sec: 46.43\n",
            "2020-06-24 00:36:07,355 epoch 4 - iter 42/140 - loss 10.60725947 - samples/sec: 39.14\n",
            "2020-06-24 00:36:14,980 epoch 4 - iter 56/140 - loss 10.49123387 - samples/sec: 58.83\n",
            "2020-06-24 00:36:22,755 epoch 4 - iter 70/140 - loss 10.47373340 - samples/sec: 57.70\n",
            "2020-06-24 00:36:37,945 epoch 4 - iter 84/140 - loss 10.42726837 - samples/sec: 29.51\n",
            "2020-06-24 00:36:51,074 epoch 4 - iter 98/140 - loss 10.35188822 - samples/sec: 34.15\n",
            "2020-06-24 00:37:21,405 epoch 4 - iter 112/140 - loss 10.43499453 - samples/sec: 14.78\n",
            "2020-06-24 00:37:36,731 epoch 4 - iter 126/140 - loss 10.43696017 - samples/sec: 29.25\n",
            "2020-06-24 00:37:48,761 epoch 4 - iter 140/140 - loss 10.39333710 - samples/sec: 37.27\n",
            "2020-06-24 00:37:48,770 ----------------------------------------------------------------------------------------------------\n",
            "2020-06-24 00:37:48,771 EPOCH 4 done: loss 10.3933 - lr 0.1000000\n",
            "2020-06-24 00:37:51,867 DEV : loss 6.566187381744385 - score 0.9091\n",
            "2020-06-24 00:37:51,913 BAD EPOCHS (no improvement): 0\n",
            "saving best model\n",
            "2020-06-24 00:38:07,903 ----------------------------------------------------------------------------------------------------\n",
            "2020-06-24 00:38:20,912 epoch 5 - iter 14/140 - loss 10.42210746 - samples/sec: 36.04\n",
            "2020-06-24 00:38:34,204 epoch 5 - iter 28/140 - loss 10.28941514 - samples/sec: 33.73\n",
            "2020-06-24 00:38:45,600 epoch 5 - iter 42/140 - loss 10.02838764 - samples/sec: 39.35\n",
            "2020-06-24 00:38:53,229 epoch 5 - iter 56/140 - loss 9.93727933 - samples/sec: 58.80\n",
            "2020-06-24 00:39:08,059 epoch 5 - iter 70/140 - loss 9.90973146 - samples/sec: 30.23\n",
            "2020-06-24 00:39:23,901 epoch 5 - iter 84/140 - loss 9.91219234 - samples/sec: 28.30\n",
            "2020-06-24 00:39:46,851 epoch 5 - iter 98/140 - loss 9.78226917 - samples/sec: 19.53\n",
            "2020-06-24 00:40:17,903 epoch 5 - iter 112/140 - loss 9.77937215 - samples/sec: 14.43\n",
            "2020-06-24 00:40:47,213 epoch 5 - iter 126/140 - loss 9.79054803 - samples/sec: 15.29\n",
            "2020-06-24 00:41:09,799 epoch 5 - iter 140/140 - loss 9.77940063 - samples/sec: 19.85\n",
            "2020-06-24 00:41:09,809 ----------------------------------------------------------------------------------------------------\n",
            "2020-06-24 00:41:09,810 EPOCH 5 done: loss 9.7794 - lr 0.1000000\n",
            "2020-06-24 00:41:12,930 DEV : loss 6.305238723754883 - score 0.9143\n",
            "2020-06-24 00:41:12,984 BAD EPOCHS (no improvement): 0\n",
            "saving best model\n",
            "2020-06-24 00:41:28,907 ----------------------------------------------------------------------------------------------------\n",
            "2020-06-24 00:41:43,812 epoch 6 - iter 14/140 - loss 9.94021235 - samples/sec: 30.06\n",
            "2020-06-24 00:41:52,370 epoch 6 - iter 28/140 - loss 9.32389603 - samples/sec: 52.41\n",
            "2020-06-24 00:42:09,904 epoch 6 - iter 42/140 - loss 9.53427008 - samples/sec: 25.56\n",
            "2020-06-24 00:42:17,737 epoch 6 - iter 56/140 - loss 9.43086407 - samples/sec: 57.27\n",
            "2020-06-24 00:42:46,570 epoch 6 - iter 70/140 - loss 9.68440817 - samples/sec: 15.54\n",
            "2020-06-24 00:43:10,024 epoch 6 - iter 84/140 - loss 9.63787039 - samples/sec: 19.11\n",
            "2020-06-24 00:43:30,202 epoch 6 - iter 98/140 - loss 9.56890823 - samples/sec: 22.21\n",
            "2020-06-24 00:43:54,792 epoch 6 - iter 112/140 - loss 9.45238428 - samples/sec: 18.23\n",
            "2020-06-24 00:44:22,426 epoch 6 - iter 126/140 - loss 9.40376935 - samples/sec: 16.22\n",
            "2020-06-24 00:44:54,431 epoch 6 - iter 140/140 - loss 9.42363622 - samples/sec: 14.00\n",
            "2020-06-24 00:44:54,442 ----------------------------------------------------------------------------------------------------\n",
            "2020-06-24 00:44:54,447 EPOCH 6 done: loss 9.4236 - lr 0.1000000\n",
            "2020-06-24 00:44:57,618 DEV : loss 6.135483741760254 - score 0.9159\n",
            "2020-06-24 00:44:57,666 BAD EPOCHS (no improvement): 0\n",
            "saving best model\n",
            "2020-06-24 00:45:13,873 ----------------------------------------------------------------------------------------------------\n",
            "2020-06-24 00:45:37,417 epoch 7 - iter 14/140 - loss 8.75755143 - samples/sec: 19.03\n",
            "2020-06-24 00:46:00,326 epoch 7 - iter 28/140 - loss 8.98035526 - samples/sec: 19.56\n",
            "2020-06-24 00:46:32,780 epoch 7 - iter 42/140 - loss 9.02747338 - samples/sec: 13.81\n",
            "2020-06-24 00:47:10,838 epoch 7 - iter 56/140 - loss 9.11495560 - samples/sec: 11.77\n",
            "2020-06-24 00:47:43,701 epoch 7 - iter 70/140 - loss 9.12620177 - samples/sec: 13.64\n",
            "2020-06-24 00:48:21,178 epoch 7 - iter 84/140 - loss 9.18077485 - samples/sec: 11.96\n",
            "2020-06-24 00:48:47,754 epoch 7 - iter 98/140 - loss 9.09619692 - samples/sec: 16.86\n",
            "2020-06-24 00:49:12,530 epoch 7 - iter 112/140 - loss 9.06806681 - samples/sec: 18.09\n",
            "2020-06-24 00:49:43,485 epoch 7 - iter 126/140 - loss 9.10823244 - samples/sec: 14.48\n",
            "2020-06-24 00:50:29,097 epoch 7 - iter 140/140 - loss 9.09560795 - samples/sec: 9.82\n",
            "2020-06-24 00:50:29,107 ----------------------------------------------------------------------------------------------------\n",
            "2020-06-24 00:50:29,108 EPOCH 7 done: loss 9.0956 - lr 0.1000000\n",
            "2020-06-24 00:50:32,285 DEV : loss 6.145282745361328 - score 0.9156\n",
            "2020-06-24 00:50:32,334 BAD EPOCHS (no improvement): 1\n",
            "2020-06-24 00:50:32,335 ----------------------------------------------------------------------------------------------------\n",
            "2020-06-24 00:51:05,124 epoch 8 - iter 14/140 - loss 8.62653392 - samples/sec: 13.66\n",
            "2020-06-24 00:51:28,731 epoch 8 - iter 28/140 - loss 8.62245260 - samples/sec: 18.99\n",
            "2020-06-24 00:52:06,523 epoch 8 - iter 42/140 - loss 8.71372955 - samples/sec: 11.86\n",
            "2020-06-24 00:52:42,735 epoch 8 - iter 56/140 - loss 8.80473788 - samples/sec: 12.37\n",
            "2020-06-24 00:53:20,862 epoch 8 - iter 70/140 - loss 8.90293363 - samples/sec: 11.75\n",
            "2020-06-24 00:53:50,121 epoch 8 - iter 84/140 - loss 8.89531791 - samples/sec: 15.32\n",
            "2020-06-24 00:54:30,045 epoch 8 - iter 98/140 - loss 8.93699175 - samples/sec: 11.22\n",
            "2020-06-24 00:55:00,313 epoch 8 - iter 112/140 - loss 8.92395658 - samples/sec: 14.81\n",
            "2020-06-24 00:55:29,224 epoch 8 - iter 126/140 - loss 8.87709080 - samples/sec: 15.50\n",
            "2020-06-24 00:56:10,361 epoch 8 - iter 140/140 - loss 8.84510567 - samples/sec: 10.89\n",
            "2020-06-24 00:56:10,370 ----------------------------------------------------------------------------------------------------\n",
            "2020-06-24 00:56:10,371 EPOCH 8 done: loss 8.8451 - lr 0.1000000\n",
            "2020-06-24 00:56:13,602 DEV : loss 5.789313793182373 - score 0.9194\n",
            "2020-06-24 00:56:13,653 BAD EPOCHS (no improvement): 0\n",
            "saving best model\n",
            "2020-06-24 00:56:30,652 ----------------------------------------------------------------------------------------------------\n",
            "2020-06-24 00:57:13,351 epoch 9 - iter 14/140 - loss 8.83921555 - samples/sec: 10.49\n",
            "2020-06-24 00:57:56,066 epoch 9 - iter 28/140 - loss 8.62924094 - samples/sec: 10.49\n",
            "2020-06-24 00:58:33,266 epoch 9 - iter 42/140 - loss 8.55052012 - samples/sec: 12.05\n",
            "2020-06-24 00:58:53,474 epoch 9 - iter 56/140 - loss 8.67837852 - samples/sec: 22.18\n",
            "2020-06-24 00:59:12,796 epoch 9 - iter 70/140 - loss 8.72003345 - samples/sec: 23.20\n",
            "2020-06-24 00:59:40,401 epoch 9 - iter 84/140 - loss 8.67653741 - samples/sec: 16.23\n",
            "2020-06-24 01:00:01,726 epoch 9 - iter 98/140 - loss 8.69973382 - samples/sec: 21.02\n",
            "2020-06-24 01:00:30,069 epoch 9 - iter 112/140 - loss 8.76084383 - samples/sec: 15.81\n",
            "2020-06-24 01:00:51,241 epoch 9 - iter 126/140 - loss 8.67917630 - samples/sec: 21.17\n",
            "2020-06-24 01:01:22,979 epoch 9 - iter 140/140 - loss 8.71793907 - samples/sec: 14.12\n",
            "2020-06-24 01:01:22,989 ----------------------------------------------------------------------------------------------------\n",
            "2020-06-24 01:01:22,991 EPOCH 9 done: loss 8.7179 - lr 0.1000000\n",
            "2020-06-24 01:01:26,141 DEV : loss 5.771734714508057 - score 0.9206\n",
            "2020-06-24 01:01:26,189 BAD EPOCHS (no improvement): 0\n",
            "saving best model\n",
            "2020-06-24 01:01:42,772 ----------------------------------------------------------------------------------------------------\n",
            "2020-06-24 01:02:07,214 epoch 10 - iter 14/140 - loss 8.68207993 - samples/sec: 18.33\n",
            "2020-06-24 01:02:29,549 epoch 10 - iter 28/140 - loss 8.88214391 - samples/sec: 20.07\n",
            "2020-06-24 01:02:54,447 epoch 10 - iter 42/140 - loss 8.72792327 - samples/sec: 18.00\n",
            "2020-06-24 01:03:24,143 epoch 10 - iter 56/140 - loss 8.70403950 - samples/sec: 15.09\n",
            "2020-06-24 01:04:02,249 epoch 10 - iter 70/140 - loss 8.73382254 - samples/sec: 11.76\n",
            "2020-06-24 01:04:27,128 epoch 10 - iter 84/140 - loss 8.65977364 - samples/sec: 18.01\n",
            "2020-06-24 01:04:47,015 epoch 10 - iter 98/140 - loss 8.58426732 - samples/sec: 22.54\n",
            "2020-06-24 01:05:13,117 epoch 10 - iter 112/140 - loss 8.53308780 - samples/sec: 17.17\n",
            "2020-06-24 01:05:45,327 epoch 10 - iter 126/140 - loss 8.57727154 - samples/sec: 13.91\n",
            "2020-06-24 01:06:07,203 epoch 10 - iter 140/140 - loss 8.51082181 - samples/sec: 20.49\n",
            "2020-06-24 01:06:07,213 ----------------------------------------------------------------------------------------------------\n",
            "2020-06-24 01:06:07,214 EPOCH 10 done: loss 8.5108 - lr 0.1000000\n",
            "2020-06-24 01:06:10,368 DEV : loss 5.648045539855957 - score 0.9214\n",
            "2020-06-24 01:06:10,419 BAD EPOCHS (no improvement): 0\n",
            "saving best model\n",
            "2020-06-24 01:06:53,102 ----------------------------------------------------------------------------------------------------\n",
            "2020-06-24 01:06:53,790 Testing using best model ...\n",
            "2020-06-24 01:06:53,793 loading file resources/taggers/example-universal-pos/best-model.pt\n",
            "2020-06-24 01:07:32,802 0.9272\t0.9277\t0.9274\n",
            "2020-06-24 01:07:32,803 \n",
            "MICRO_AVG: acc 0.9275 - f1-score 0.9274\n",
            "MACRO_AVG: acc 0.8582 - f1-score 0.8581\n",
            "ADJ        tp: 296 - fp: 68 - fn: 128 - tn: 297 - precision: 0.8132 - recall: 0.6981 - accuracy: 0.7516 - f1-score: 0.7513\n",
            "ADP        tp: 1102 - fp: 38 - fn: 50 - tn: 1103 - precision: 0.9667 - recall: 0.9566 - accuracy: 0.9616 - f1-score: 0.9616\n",
            "ADV        tp: 423 - fp: 108 - fn: 66 - tn: 424 - precision: 0.7966 - recall: 0.8650 - accuracy: 0.8296 - f1-score: 0.8294\n",
            "AUX        tp: 96 - fp: 1 - fn: 0 - tn: 96 - precision: 0.9897 - recall: 1.0000 - accuracy: 0.9948 - f1-score: 0.9948\n",
            "CCONJ      tp: 336 - fp: 5 - fn: 39 - tn: 336 - precision: 0.9853 - recall: 0.8960 - accuracy: 0.9385 - f1-score: 0.9385\n",
            "DET        tp: 350 - fp: 17 - fn: 24 - tn: 350 - precision: 0.9537 - recall: 0.9358 - accuracy: 0.9447 - f1-score: 0.9447\n",
            "NOUN       tp: 2314 - fp: 283 - fn: 242 - tn: 2313 - precision: 0.8910 - recall: 0.9053 - accuracy: 0.8981 - f1-score: 0.8981\n",
            "NUM        tp: 388 - fp: 26 - fn: 17 - tn: 390 - precision: 0.9372 - recall: 0.9580 - accuracy: 0.9476 - f1-score: 0.9475\n",
            "PART       tp: 43 - fp: 3 - fn: 6 - tn: 43 - precision: 0.9348 - recall: 0.8776 - accuracy: 0.9053 - f1-score: 0.9053\n",
            "PRON       tp: 467 - fp: 11 - fn: 31 - tn: 467 - precision: 0.9770 - recall: 0.9378 - accuracy: 0.9570 - f1-score: 0.9570\n",
            "PROPN      tp: 2068 - fp: 179 - fn: 140 - tn: 2071 - precision: 0.9203 - recall: 0.9366 - accuracy: 0.9284 - f1-score: 0.9284\n",
            "PUNCT      tp: 1723 - fp: 6 - fn: 1 - tn: 1723 - precision: 0.9965 - recall: 0.9994 - accuracy: 0.9980 - f1-score: 0.9980\n",
            "SCONJ      tp: 120 - fp: 34 - fn: 22 - tn: 120 - precision: 0.7792 - recall: 0.8451 - accuracy: 0.8108 - f1-score: 0.8108\n",
            "SYM        tp: 26 - fp: 0 - fn: 4 - tn: 26 - precision: 1.0000 - recall: 0.8667 - accuracy: 0.9286 - f1-score: 0.9286\n",
            "VERB       tp: 1170 - fp: 79 - fn: 80 - tn: 1170 - precision: 0.9367 - recall: 0.9360 - accuracy: 0.9364 - f1-score: 0.9364\n",
            "X          tp: 0 - fp: 0 - fn: 1 - tn: 0 - precision: 0.0000 - recall: 0.0000 - accuracy: 0.0000 - f1-score: 0.0000\n",
            "2020-06-24 01:07:32,804 ----------------------------------------------------------------------------------------------------\n"
          ],
          "name": "stdout"
        },
        {
          "output_type": "execute_result",
          "data": {
            "text/plain": [
              "{'dev_loss_history': [13.226998329162598,\n",
              "  8.147075653076172,\n",
              "  7.002388954162598,\n",
              "  6.566187381744385,\n",
              "  6.305238723754883,\n",
              "  6.135483741760254,\n",
              "  6.145282745361328,\n",
              "  5.789313793182373,\n",
              "  5.771734714508057,\n",
              "  5.648045539855957],\n",
              " 'dev_score_history': [0.8093781045102324,\n",
              "  0.8875312413218551,\n",
              "  0.9020463197969543,\n",
              "  0.9091053236611567,\n",
              "  0.9143015696844776,\n",
              "  0.9159204374356129,\n",
              "  0.9155633076984064,\n",
              "  0.9194117413881951,\n",
              "  0.9205531560803581,\n",
              "  0.9214311185070724],\n",
              " 'test_score': 0.9274402411582389,\n",
              " 'train_loss_history': [28.431231219427925,\n",
              "  13.914608703340804,\n",
              "  11.295817824772426,\n",
              "  10.393337099892753,\n",
              "  9.779400627953665,\n",
              "  9.423636218479702,\n",
              "  9.095607948303222,\n",
              "  8.84510566507067,\n",
              "  8.717939066886903,\n",
              "  8.510821805681502]}"
            ]
          },
          "metadata": {
            "tags": []
          },
          "execution_count": 4
        }
      ]
    },
    {
      "cell_type": "code",
      "metadata": {
        "id": "y_6UpR-YSG4H",
        "colab_type": "code",
        "colab": {}
      },
      "source": [
        "from flair.data import Sentence"
      ],
      "execution_count": 5,
      "outputs": []
    },
    {
      "cell_type": "code",
      "metadata": {
        "id": "jTnrGBPCSUVf",
        "colab_type": "code",
        "colab": {
          "base_uri": "https://localhost:8080/",
          "height": 55
        },
        "outputId": "30b7cd56-46bc-4ff0-ec73-4c7e84cf1abd"
      },
      "source": [
        "tag_pos = SequenceTagger.load('resources/taggers/example-universal-pos/best-model.pt')"
      ],
      "execution_count": 6,
      "outputs": [
        {
          "output_type": "stream",
          "text": [
            "2020-06-24 01:07:32,842 loading file resources/taggers/example-universal-pos/best-model.pt\n"
          ],
          "name": "stdout"
        }
      ]
    },
    {
      "cell_type": "code",
      "metadata": {
        "id": "nnGtR60LhZD1",
        "colab_type": "code",
        "colab": {
          "base_uri": "https://localhost:8080/",
          "height": 35
        },
        "outputId": "174e39ab-0bf8-4990-8e04-6c4437c47550"
      },
      "source": [
        "sentence = Sentence('maaf , saya baru datang')\n",
        "tag_pos.predict(sentence)\n",
        "print(sentence.to_tagged_string())"
      ],
      "execution_count": 351,
      "outputs": [
        {
          "output_type": "stream",
          "text": [
            "maaf <ADV> , <PUNCT> saya <PRON> baru <ADJ> datang <VERB>\n"
          ],
          "name": "stdout"
        }
      ]
    }
  ]
}